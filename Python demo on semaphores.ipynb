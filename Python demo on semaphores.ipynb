{
 "cells": [
  {
   "cell_type": "code",
   "execution_count": 9,
   "metadata": {
    "collapsed": false
   },
   "outputs": [],
   "source": [
    "# taken partially from http://greenteapress.com/wp/semaphores/\n",
    "import threading\n",
    "import numpy as np"
   ]
  },
  {
   "cell_type": "code",
   "execution_count": 10,
   "metadata": {
    "collapsed": false
   },
   "outputs": [],
   "source": [
    "class Shared:\n",
    "    def __init__(self, topcount=10):\n",
    "        self.counter = 0\n",
    "        self.topcount = topcount\n",
    "        self.histo = np.zeros(topcount, dtype = np.int32)\n",
    "        \n",
    "def child(shared):\n",
    "    while True:\n",
    "        if shared.counter >= shared.topcount: break\n",
    "        shared.histo[shared.counter] += 1\n",
    "        shared.counter += 1"
   ]
  },
  {
   "cell_type": "markdown",
   "metadata": {},
   "source": [
    "Sharing a single counter for two threads\n",
    "------------------\n",
    "\n",
    "- An array of as many entries as the count *topcount* value is created with 0 as initial values\n",
    "\n",
    "- On each count the corresponding entry to the count is incremented, so if everything is OK all entries should be 1"
   ]
  },
  {
   "cell_type": "code",
   "execution_count": 11,
   "metadata": {
    "collapsed": false
   },
   "outputs": [
    {
     "name": "stdout",
     "output_type": "stream",
     "text": [
      "10\n",
      "[1 1 1 1 1 1 1 1 1 1]\n"
     ]
    },
    {
     "data": {
      "text/plain": [
       "(array([], dtype=int64),)"
      ]
     },
     "execution_count": 11,
     "metadata": {},
     "output_type": "execute_result"
    }
   ],
   "source": [
    "myshare = Shared(10)\n",
    "child1 = threading.Thread(target=child, args=(myshare,))\n",
    "child2 = threading.Thread(target=child, args=(myshare,))\n",
    "child1.start()\n",
    "child2.start()\n",
    "child1.join()\n",
    "child2.join()\n",
    "print(myshare.counter)\n",
    "print(myshare.histo)\n",
    "# nowhere it should be different to a count of 1\n",
    "np.where(myshare.histo != 1)"
   ]
  },
  {
   "cell_type": "markdown",
   "metadata": {},
   "source": [
    "Let's' create a much bigger count and check\n",
    "-----"
   ]
  },
  {
   "cell_type": "code",
   "execution_count": 13,
   "metadata": {
    "collapsed": false
   },
   "outputs": [
    {
     "name": "stdout",
     "output_type": "stream",
     "text": [
      "300001\n"
     ]
    },
    {
     "data": {
      "text/plain": [
       "(array([144965, 144966, 144967, ..., 208746, 208747, 208748], dtype=int64),)"
      ]
     },
     "execution_count": 13,
     "metadata": {},
     "output_type": "execute_result"
    }
   ],
   "source": [
    "myshare = Shared(300000)\n",
    "child1 = threading.Thread(target=child, args=(myshare,))\n",
    "child2 = threading.Thread(target=child, args=(myshare,))\n",
    "child1.start()\n",
    "child2.start()\n",
    "child1.join()\n",
    "child2.join()\n",
    "print(myshare.counter)\n",
    "# nowhere it should be different to a count of 1\n",
    "np.where(myshare.histo != 1)"
   ]
  },
  {
   "cell_type": "markdown",
   "metadata": {},
   "source": [
    "Oops! something went wrong!"
   ]
  },
  {
   "cell_type": "markdown",
   "metadata": {},
   "source": [
    "Let's use a semaphore\n",
    "----\n",
    "\n",
    "- Note the use of a semaphore \n",
    "- Note that the *child_sem* is careful to release the semaphore when it reaches the *topcount* value"
   ]
  },
  {
   "cell_type": "code",
   "execution_count": 14,
   "metadata": {
    "collapsed": true
   },
   "outputs": [],
   "source": [
    "class Shared_SEM:\n",
    "    def __init__(self, topcount=10):\n",
    "        self.counter = 0\n",
    "        self.topcount = topcount\n",
    "        self.histo = np.zeros(topcount, dtype = np.int32)\n",
    "        self.onlyme = threading.Semaphore()\n",
    "        \n",
    "def child_sem(shared):\n",
    "    while True:\n",
    "        shared.onlyme.acquire()\n",
    "        if shared.counter < shared.topcount:\n",
    "            shared.histo[shared.counter] += 1\n",
    "            shared.counter += 1\n",
    "            shared.onlyme.release()\n",
    "        else:\n",
    "            shared.onlyme.release()\n",
    "            break"
   ]
  },
  {
   "cell_type": "code",
   "execution_count": 15,
   "metadata": {
    "collapsed": false
   },
   "outputs": [
    {
     "name": "stdout",
     "output_type": "stream",
     "text": [
      "1000000\n"
     ]
    },
    {
     "data": {
      "text/plain": [
       "(array([], dtype=int64),)"
      ]
     },
     "execution_count": 15,
     "metadata": {},
     "output_type": "execute_result"
    }
   ],
   "source": [
    "share_sem = Shared_SEM(1000000)\n",
    "child1 = threading.Thread(target=child_sem, args=(share_sem,))\n",
    "child2 = threading.Thread(target=child_sem, args=(share_sem,))\n",
    "child1.start()\n",
    "child2.start()\n",
    "child1.join()\n",
    "child2.join()\n",
    "print(share_sem.counter)\n",
    "# nowhere it should be different to a count of 1\n",
    "np.where(share_sem.histo != 1)"
   ]
  },
  {
   "cell_type": "markdown",
   "metadata": {},
   "source": [
    "That is what we were expecting, good!"
   ]
  },
  {
   "cell_type": "code",
   "execution_count": null,
   "metadata": {
    "collapsed": true
   },
   "outputs": [],
   "source": []
  }
 ],
 "metadata": {
  "kernelspec": {
   "display_name": "Python [Root]",
   "language": "python",
   "name": "Python [Root]"
  },
  "language_info": {
   "codemirror_mode": {
    "name": "ipython",
    "version": 3
   },
   "file_extension": ".py",
   "mimetype": "text/x-python",
   "name": "python",
   "nbconvert_exporter": "python",
   "pygments_lexer": "ipython3",
   "version": "3.5.2"
  }
 },
 "nbformat": 4,
 "nbformat_minor": 0
}
